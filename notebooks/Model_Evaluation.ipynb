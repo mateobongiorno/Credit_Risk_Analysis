{
 "cells": [
  {
   "cell_type": "code",
   "execution_count": 3,
   "metadata": {},
   "outputs": [],
   "source": [
    "import pandas as pd\n",
    "import numpy as np\n",
    "import scipy as sp\n",
    "import tensorflow as tf\n",
    "from time import process_time\n",
    "from scipy import stats\n",
    "import lightgbm as lgb\n",
    "import matplotlib.pyplot as plt\n",
    "from sklearn.model_selection import train_test_split, RandomizedSearchCV\n",
    "from sklearn.impute import SimpleImputer\n",
    "from sklearn.tree import DecisionTreeClassifier\n",
    "from sklearn.preprocessing import OrdinalEncoder, StandardScaler, OneHotEncoder\n",
    "from sklearn.linear_model import LogisticRegression\n",
    "from xgboost import XGBClassifier, XGBRegressor\n",
    "from sklearn.ensemble import RandomForestClassifier\n",
    "from sklearn.metrics import roc_auc_score, classification_report, roc_curve, precision_recall_curve, confusion_matrix, plot_confusion_matrix\n",
    "from sklearn.pipeline import Pipeline\n",
    "from sklearn.compose import ColumnTransformer\n",
    "from tensorflow import keras\n",
    "from tensorflow.keras import layers"
   ]
  },
  {
   "cell_type": "code",
   "execution_count": 4,
   "metadata": {},
   "outputs": [],
   "source": [
    "pd.options.mode.chained_assignment = None # For warnings"
   ]
  },
  {
   "attachments": {},
   "cell_type": "markdown",
   "metadata": {},
   "source": [
    "### Getting the data"
   ]
  },
  {
   "attachments": {},
   "cell_type": "markdown",
   "metadata": {},
   "source": [
    "##### Columns names and descriptions"
   ]
  },
  {
   "cell_type": "code",
   "execution_count": 5,
   "metadata": {},
   "outputs": [],
   "source": [
    "# Read the csv with the variables description.\n",
    "col_descript = pd.read_csv('model/data/PAKDD2010_VariablesList.csv')"
   ]
  },
  {
   "cell_type": "code",
   "execution_count": 6,
   "metadata": {},
   "outputs": [],
   "source": [
    "# I take columns names and make a list.\n",
    "col_nam = col_descript['Var_Title'].to_list()\n",
    "\n",
    "# I rename some columns.\n",
    "col_nam[6] = 'GENDER'\n",
    "col_nam[43] = 'MATE_EDUCATION_LEVEL'\n",
    "col_nam[53] = 'TARGET'"
   ]
  },
  {
   "attachments": {},
   "cell_type": "markdown",
   "metadata": {},
   "source": [
    "##### Load the dataset"
   ]
  },
  {
   "cell_type": "code",
   "execution_count": 7,
   "metadata": {},
   "outputs": [],
   "source": [
    "# Read the csv that I will use.\n",
    "df = pd.read_csv('model/data/PAKDD2010_Modeling_Data.txt', encoding = 'ISO-8859-1',\n",
    " delimiter='\\t', header = None, names = col_nam, low_memory = False)"
   ]
  },
  {
   "attachments": {},
   "cell_type": "markdown",
   "metadata": {},
   "source": [
    "### Prepocessing"
   ]
  },
  {
   "cell_type": "code",
   "execution_count": 8,
   "metadata": {},
   "outputs": [],
   "source": [
    "df = df.drop(['MATE_PROFESSION_CODE', 'MATE_EDUCATION_LEVEL', 'EDUCATION_LEVEL', 'RESIDENCIAL_BOROUGH',\n",
    "    'CITY_OF_BIRTH', 'RESIDENCIAL_PHONE_AREA_CODE','PROFESSIONAL_CITY', 'MONTHS_IN_THE_JOB', 'QUANT_ADDITIONAL_CARDS',\n",
    "    'PROFESSIONAL_BOROUGH', 'PROFESSIONAL_STATE','RESIDENCIAL_CITY', 'PERSONAL_ASSETS_VALUE', 'POSTAL_ADDRESS_TYPE'], axis = 1)\n",
    "\n",
    "df = df.loc[:, df.apply(pd.Series.nunique) != 1]\n",
    "\n",
    "num = df.select_dtypes('number').columns\n",
    "df_num = df[num]\n",
    "\n",
    "cat = df.select_dtypes('object')\n",
    "df_cat_list = cat.keys().to_list()\n",
    "df_cat = df[df_cat_list]"
   ]
  },
  {
   "cell_type": "code",
   "execution_count": 9,
   "metadata": {},
   "outputs": [],
   "source": [
    "# NUMERICAL\n",
    "def numerical():\n",
    "\n",
    "    df = df_num\n",
    "    \n",
    "    # MONTHS_IN_RESIDENCE\n",
    "    df_mir = df['MONTHS_IN_RESIDENCE']\n",
    "    df_mir.loc[(df_mir > 199)] = 101\n",
    "    df_mir.loc[(df_mir > 31)] = 32\n",
    "\n",
    "    # AGE\n",
    "    df.loc[df['AGE'] < 17, 'AGE'] = 17\n",
    "\n",
    "    # PERSONAL_MONTHLY_INCOME\n",
    "    df['TOTAL_INCOMES'] = pd.DataFrame(df['PERSONAL_MONTHLY_INCOME'] + df['OTHER_INCOMES'])\n",
    "\n",
    "    # MARITAL_STATUS\n",
    "    df['MARITAL_STATUS'].loc[(df['MARITAL_STATUS'] > 3)] = 3\n",
    "\n",
    "    # NACIONALITY\n",
    "    df['NACIONALITY'].loc[(df['NACIONALITY'] == 2)] = 1\n",
    "\n",
    "    # QUANT_DEPENDANTS  \n",
    "    df['QUANT_DEPENDANTS'].loc[(df['QUANT_DEPENDANTS'] >= 7)] = 7\n",
    "    df['QUANT_DEPENDANTS'].loc[(df['QUANT_DEPENDANTS'] >= 10)] = 10\n",
    "\n",
    "    # PROFESSION_CODE\n",
    "    df_pc = df['PROFESSION_CODE']\n",
    "    df_pc.loc[(df_pc >= 17)] = 17\n",
    "\n",
    "    return df\n",
    "\n",
    "# CATEGORICAL\n",
    "def categorical():\n",
    "\n",
    "    df = df_cat\n",
    "\n",
    "    # APPLICATION_SUBMISSION_TYPE\n",
    "    df['APPLICATION_SUBMISSION_TYPE'].replace({'0': 'Carga'}, inplace = True)\n",
    "\n",
    "    # STATE_OF_BIRTH\n",
    "    df['STATE_OF_BIRTH'].replace({'XX': np.nan, ' ' : np.nan}, inplace = True)\n",
    "\n",
    "    # RESIDENCIAL_ZIP_3\n",
    "    df['RESIDENCIAL_ZIP_3'].loc[(df['RESIDENCIAL_ZIP_3']  == '#DIV/0!')] = np.nan\n",
    "\n",
    "    # PROFESSIONAL_ZIP_3\n",
    "    df['PROFESSIONAL_ZIP_3'].loc[(df['PROFESSIONAL_ZIP_3']  == '#DIV/0!')] = np.nan\n",
    "\n",
    "    return df\n",
    "\n",
    "df_num = numerical()\n",
    "df_cat = categorical()\n",
    "\n",
    "df = pd.concat([df_num, df_cat], axis = 1)\n",
    "\n",
    "df = df.drop(['PERSONAL_MONTHLY_INCOME', 'OTHER_INCOMES'], axis = 1)\n",
    "\n",
    "# I set the client_id as the index.\n",
    "df = df.set_index('ID_CLIENT')"
   ]
  },
  {
   "cell_type": "code",
   "execution_count": 10,
   "metadata": {},
   "outputs": [],
   "source": [
    "# Features\n",
    "X = df.drop(['TARGET'], axis = 1)\n",
    "\n",
    "# Labels\n",
    "y = df['TARGET']\n",
    "\n",
    "# Split the dataset\n",
    "X_train, X_test, y_train, y_test = train_test_split(\n",
    "  X, y,\n",
    "  train_size = .8,\n",
    "  random_state = 42,\n",
    "  stratify = y\n",
    ")"
   ]
  },
  {
   "attachments": {},
   "cell_type": "markdown",
   "metadata": {},
   "source": [
    "##### I create two small pipelines for both numeric and categorical features, and then I merge both pipelnes in a single pre-processing object"
   ]
  },
  {
   "cell_type": "code",
   "execution_count": 11,
   "metadata": {},
   "outputs": [],
   "source": [
    "# Pipeline for numerical\n",
    "pipe_num = Pipeline(steps = [\n",
    "    ('impute', SimpleImputer(missing_values = np.nan, strategy = 'median')),\n",
    "    ('scaler', StandardScaler())\n",
    "])\n",
    "\n",
    "# Pipeline for categorical\n",
    "pipe_cat = Pipeline(steps = [\n",
    "    ('impute', SimpleImputer(missing_values = np.nan, strategy = 'most_frequent')),\n",
    "    ('one-hot', OneHotEncoder(handle_unknown = 'ignore', sparse = False))\n",
    "])"
   ]
  },
  {
   "cell_type": "code",
   "execution_count": 12,
   "metadata": {},
   "outputs": [],
   "source": [
    "# I use ColumnTransformer to takes the tuple of transformers\n",
    "full_processor = ColumnTransformer(transformers = [\n",
    "    ('number', pipe_num, df_num.drop(['ID_CLIENT', 'TARGET', 'PERSONAL_MONTHLY_INCOME', 'OTHER_INCOMES'], axis = 1).keys().to_list() ),\n",
    "    ('categorical', pipe_cat, df_cat_list)\n",
    "])"
   ]
  },
  {
   "cell_type": "code",
   "execution_count": 13,
   "metadata": {},
   "outputs": [],
   "source": [
    "# I use the processor on X_train and X_test, respectively:\n",
    "X_train = full_processor.fit_transform(X_train)\n",
    "\n",
    "X_test = full_processor.transform(X_test)"
   ]
  },
  {
   "attachments": {},
   "cell_type": "markdown",
   "metadata": {},
   "source": [
    "## Models"
   ]
  },
  {
   "attachments": {},
   "cell_type": "markdown",
   "metadata": {},
   "source": [
    "In this section we trained some Machine Learning models:\n",
    "\n",
    "- Logistic Regression\n",
    "- RandomForest Classifier\n",
    "- LGBM Classifier\n",
    "- XGBoost Classifier\n",
    "- Multilayer Perceptron (MLP) Deep Learning model\n",
    "\n",
    "Also tried to improve some of their results applying RandomizedSearchCV for searching for the best hyperparameters. \n",
    "\n",
    "For each model trained you will see the corresponding classification reports for train and test, and the roc-auc score. This last metric was not calculated for the Multilayer Perceptron model as their results were not representative for comparing with the other models. "
   ]
  },
  {
   "attachments": {},
   "cell_type": "markdown",
   "metadata": {},
   "source": [
    "### Logistic Regression"
   ]
  },
  {
   "cell_type": "code",
   "execution_count": 14,
   "metadata": {},
   "outputs": [
    {
     "data": {
      "text/plain": [
       "LogisticRegression(max_iter=20000)"
      ]
     },
     "execution_count": 14,
     "metadata": {},
     "output_type": "execute_result"
    }
   ],
   "source": [
    "lr = LogisticRegression(max_iter = 20000)\n",
    "\n",
    "lr.fit(X_train, y_train)"
   ]
  },
  {
   "cell_type": "code",
   "execution_count": 15,
   "metadata": {},
   "outputs": [],
   "source": [
    "lr_pred_train = lr.predict(X_train)"
   ]
  },
  {
   "cell_type": "code",
   "execution_count": 16,
   "metadata": {},
   "outputs": [],
   "source": [
    "lr_pred_test = lr.predict(X_test)"
   ]
  },
  {
   "cell_type": "code",
   "execution_count": 17,
   "metadata": {},
   "outputs": [
    {
     "name": "stdout",
     "output_type": "stream",
     "text": [
      "              precision    recall  f1-score   support\n",
      "\n",
      "           0       0.75      0.98      0.85     29567\n",
      "           1       0.56      0.06      0.11     10433\n",
      "\n",
      "    accuracy                           0.74     40000\n",
      "   macro avg       0.66      0.52      0.48     40000\n",
      "weighted avg       0.70      0.74      0.66     40000\n",
      "\n"
     ]
    }
   ],
   "source": [
    "print(classification_report(y_train, lr_pred_train))"
   ]
  },
  {
   "cell_type": "code",
   "execution_count": 18,
   "metadata": {},
   "outputs": [
    {
     "name": "stdout",
     "output_type": "stream",
     "text": [
      "              precision    recall  f1-score   support\n",
      "\n",
      "           0       0.75      0.98      0.85      7392\n",
      "           1       0.48      0.05      0.09      2608\n",
      "\n",
      "    accuracy                           0.74     10000\n",
      "   macro avg       0.61      0.52      0.47     10000\n",
      "weighted avg       0.67      0.74      0.65     10000\n",
      "\n"
     ]
    }
   ],
   "source": [
    "print(classification_report(y_test, lr_pred_test))"
   ]
  },
  {
   "cell_type": "code",
   "execution_count": 19,
   "metadata": {},
   "outputs": [
    {
     "data": {
      "text/plain": [
       "0.6243854760078879"
      ]
     },
     "execution_count": 19,
     "metadata": {},
     "output_type": "execute_result"
    }
   ],
   "source": [
    "lr_proba = lr.predict_proba(X_test)[:, 1]\n",
    "\n",
    "lr_roc_auc = roc_auc_score(y_test, lr_proba)\n",
    "lr_roc_auc"
   ]
  },
  {
   "attachments": {},
   "cell_type": "markdown",
   "metadata": {},
   "source": [
    "##### Logistic Regression + RandomizedSearchCV"
   ]
  },
  {
   "cell_type": "code",
   "execution_count": 20,
   "metadata": {},
   "outputs": [],
   "source": [
    "param_lr = {\n",
    "     'max_iter' : (100, 200, 500),\n",
    "     'tol' : (1e-4, 1e-5, 1e-3, 1e-2),\n",
    "     'C' : (0.1, 1, 10, 20)\n",
    "}"
   ]
  },
  {
   "cell_type": "code",
   "execution_count": 21,
   "metadata": {},
   "outputs": [
    {
     "name": "stdout",
     "output_type": "stream",
     "text": [
      "Fitting 4 folds for each of 20 candidates, totalling 80 fits\n"
     ]
    },
    {
     "name": "stderr",
     "output_type": "stream",
     "text": [
      "c:\\Users\\titob\\Documents\\Cursos\\AnyoneAI\\Final_Project\\Credit_Score_MateoBongiorno\\credit_risk_api\\lib\\site-packages\\sklearn\\linear_model\\_logistic.py:814: ConvergenceWarning: lbfgs failed to converge (status=1):\n",
      "STOP: TOTAL NO. of ITERATIONS REACHED LIMIT.\n",
      "\n",
      "Increase the number of iterations (max_iter) or scale the data as shown in:\n",
      "    https://scikit-learn.org/stable/modules/preprocessing.html\n",
      "Please also refer to the documentation for alternative solver options:\n",
      "    https://scikit-learn.org/stable/modules/linear_model.html#logistic-regression\n",
      "  n_iter_i = _check_optimize_result(\n"
     ]
    },
    {
     "data": {
      "text/plain": [
       "RandomizedSearchCV(cv=4, estimator=LogisticRegression(random_state=42),\n",
       "                   n_iter=20, n_jobs=-1,\n",
       "                   param_distributions={'C': (0.1, 1, 10, 20),\n",
       "                                        'max_iter': (100, 200, 500),\n",
       "                                        'tol': (0.0001, 1e-05, 0.001, 0.01)},\n",
       "                   verbose=1)"
      ]
     },
     "execution_count": 21,
     "metadata": {},
     "output_type": "execute_result"
    }
   ],
   "source": [
    "lr_rand = RandomizedSearchCV(\n",
    "    LogisticRegression(random_state = 42), param_lr, n_iter = 20, cv = 4, n_jobs = -1, verbose = 1\n",
    ")\n",
    "\n",
    "lr_rand .fit(X_train, y_train)"
   ]
  },
  {
   "cell_type": "code",
   "execution_count": 22,
   "metadata": {},
   "outputs": [],
   "source": [
    "lr_rand_train = lr_rand.predict(X_train)\n",
    "\n",
    "lr_rand_test = lr_rand.predict(X_test)"
   ]
  },
  {
   "cell_type": "code",
   "execution_count": 23,
   "metadata": {},
   "outputs": [
    {
     "data": {
      "text/plain": [
       "0.6258064492703106"
      ]
     },
     "execution_count": 23,
     "metadata": {},
     "output_type": "execute_result"
    }
   ],
   "source": [
    "lr_rd_proba = lr_rand.predict_proba(X_test)[:, 1]\n",
    "\n",
    "lr_rd_auc = roc_auc_score(y_test, lr_rd_proba)\n",
    "lr_rd_auc"
   ]
  },
  {
   "cell_type": "code",
   "execution_count": 24,
   "metadata": {},
   "outputs": [
    {
     "name": "stdout",
     "output_type": "stream",
     "text": [
      "              precision    recall  f1-score   support\n",
      "\n",
      "           0       0.74      0.99      0.85     29567\n",
      "           1       0.53      0.03      0.05     10433\n",
      "\n",
      "    accuracy                           0.74     40000\n",
      "   macro avg       0.64      0.51      0.45     40000\n",
      "weighted avg       0.69      0.74      0.64     40000\n",
      "\n"
     ]
    }
   ],
   "source": [
    "print(classification_report(y_train, lr_rand_train))"
   ]
  },
  {
   "cell_type": "code",
   "execution_count": 25,
   "metadata": {},
   "outputs": [
    {
     "name": "stdout",
     "output_type": "stream",
     "text": [
      "              precision    recall  f1-score   support\n",
      "\n",
      "           0       0.74      0.99      0.85      7392\n",
      "           1       0.45      0.02      0.04      2608\n",
      "\n",
      "    accuracy                           0.74     10000\n",
      "   macro avg       0.59      0.51      0.44     10000\n",
      "weighted avg       0.67      0.74      0.64     10000\n",
      "\n"
     ]
    }
   ],
   "source": [
    "print(classification_report(y_test, lr_rand_test))"
   ]
  },
  {
   "attachments": {},
   "cell_type": "markdown",
   "metadata": {},
   "source": [
    "### LightGBM Classifier"
   ]
  },
  {
   "cell_type": "code",
   "execution_count": 26,
   "metadata": {},
   "outputs": [
    {
     "data": {
      "text/plain": [
       "LGBMClassifier()"
      ]
     },
     "execution_count": 26,
     "metadata": {},
     "output_type": "execute_result"
    }
   ],
   "source": [
    "lgbm = lgb.LGBMClassifier()\n",
    "\n",
    "lgbm.fit(X_train, y_train)"
   ]
  },
  {
   "cell_type": "code",
   "execution_count": 30,
   "metadata": {},
   "outputs": [],
   "source": [
    "lgbm_pred_train = lgbm.predict(X_train)\n",
    "\n",
    "lgbm_pred_test = lgbm.predict(X_test)"
   ]
  },
  {
   "cell_type": "code",
   "execution_count": 31,
   "metadata": {},
   "outputs": [
    {
     "data": {
      "text/plain": [
       "0.6414341984702414"
      ]
     },
     "execution_count": 31,
     "metadata": {},
     "output_type": "execute_result"
    }
   ],
   "source": [
    "lgbm_proba = lgbm.predict_proba(X_test)[:, 1]\n",
    "\n",
    "lgbm_auc = roc_auc_score(y_test, lgbm_proba)\n",
    "lgbm_auc"
   ]
  },
  {
   "cell_type": "code",
   "execution_count": 32,
   "metadata": {},
   "outputs": [
    {
     "name": "stdout",
     "output_type": "stream",
     "text": [
      "              precision    recall  f1-score   support\n",
      "\n",
      "           0       0.75      1.00      0.86     29567\n",
      "           1       0.83      0.06      0.11     10433\n",
      "\n",
      "    accuracy                           0.75     40000\n",
      "   macro avg       0.79      0.53      0.48     40000\n",
      "weighted avg       0.77      0.75      0.66     40000\n",
      "\n"
     ]
    }
   ],
   "source": [
    "print(classification_report(y_train, lgbm_pred_train))"
   ]
  },
  {
   "cell_type": "code",
   "execution_count": 33,
   "metadata": {},
   "outputs": [
    {
     "name": "stdout",
     "output_type": "stream",
     "text": [
      "              precision    recall  f1-score   support\n",
      "\n",
      "           0       0.74      0.99      0.85      7392\n",
      "           1       0.52      0.03      0.06      2608\n",
      "\n",
      "    accuracy                           0.74     10000\n",
      "   macro avg       0.63      0.51      0.45     10000\n",
      "weighted avg       0.69      0.74      0.64     10000\n",
      "\n"
     ]
    }
   ],
   "source": [
    "print(classification_report(y_test, lgbm_pred_test))"
   ]
  },
  {
   "attachments": {},
   "cell_type": "markdown",
   "metadata": {},
   "source": [
    "### Random Forest Classifier"
   ]
  },
  {
   "cell_type": "code",
   "execution_count": 34,
   "metadata": {},
   "outputs": [
    {
     "data": {
      "text/plain": [
       "RandomForestClassifier()"
      ]
     },
     "execution_count": 34,
     "metadata": {},
     "output_type": "execute_result"
    }
   ],
   "source": [
    "rf = RandomForestClassifier()\n",
    "\n",
    "rf.fit(X_train, y_train)"
   ]
  },
  {
   "cell_type": "code",
   "execution_count": 35,
   "metadata": {},
   "outputs": [],
   "source": [
    "rf_pred_train = rf.predict(X_train)\n",
    "\n",
    "rf_pred_test = rf.predict(X_test)"
   ]
  },
  {
   "cell_type": "code",
   "execution_count": 36,
   "metadata": {},
   "outputs": [
    {
     "data": {
      "text/plain": [
       "0.608731038819948"
      ]
     },
     "execution_count": 36,
     "metadata": {},
     "output_type": "execute_result"
    }
   ],
   "source": [
    "rf_proba = rf.predict_proba(X_test)[:, 1]\n",
    "\n",
    "rf_auc = roc_auc_score(y_test, rf_proba)\n",
    "rf_auc"
   ]
  },
  {
   "cell_type": "code",
   "execution_count": 37,
   "metadata": {},
   "outputs": [
    {
     "name": "stdout",
     "output_type": "stream",
     "text": [
      "              precision    recall  f1-score   support\n",
      "\n",
      "           0       1.00      1.00      1.00     29567\n",
      "           1       1.00      1.00      1.00     10433\n",
      "\n",
      "    accuracy                           1.00     40000\n",
      "   macro avg       1.00      1.00      1.00     40000\n",
      "weighted avg       1.00      1.00      1.00     40000\n",
      "\n"
     ]
    }
   ],
   "source": [
    "print(classification_report(y_train, rf_pred_train))"
   ]
  },
  {
   "cell_type": "code",
   "execution_count": 38,
   "metadata": {},
   "outputs": [
    {
     "name": "stdout",
     "output_type": "stream",
     "text": [
      "              precision    recall  f1-score   support\n",
      "\n",
      "           0       0.75      0.98      0.85      7392\n",
      "           1       0.47      0.05      0.09      2608\n",
      "\n",
      "    accuracy                           0.74     10000\n",
      "   macro avg       0.61      0.51      0.47     10000\n",
      "weighted avg       0.67      0.74      0.65     10000\n",
      "\n"
     ]
    }
   ],
   "source": [
    "print(classification_report(y_test, rf_pred_test))"
   ]
  },
  {
   "attachments": {},
   "cell_type": "markdown",
   "metadata": {},
   "source": [
    "### XGBoost Classifier"
   ]
  },
  {
   "cell_type": "code",
   "execution_count": 39,
   "metadata": {},
   "outputs": [
    {
     "data": {
      "text/plain": [
       "XGBClassifier(base_score=0.5, booster='gbtree', callbacks=None,\n",
       "              colsample_bylevel=1, colsample_bynode=1, colsample_bytree=1,\n",
       "              early_stopping_rounds=None, enable_categorical=False,\n",
       "              eval_metric=None, feature_types=None, gamma=0, gpu_id=-1,\n",
       "              grow_policy='depthwise', importance_type=None,\n",
       "              interaction_constraints='', learning_rate=0.300000012,\n",
       "              max_bin=256, max_cat_threshold=64, max_cat_to_onehot=4,\n",
       "              max_delta_step=0, max_depth=6, max_leaves=0, min_child_weight=1,\n",
       "              missing=nan, monotone_constraints='()', n_estimators=100,\n",
       "              n_jobs=0, num_parallel_tree=1, predictor='auto', random_state=0, ...)"
      ]
     },
     "execution_count": 39,
     "metadata": {},
     "output_type": "execute_result"
    }
   ],
   "source": [
    "xgb = XGBClassifier()\n",
    "\n",
    "# I fit the model.\n",
    "xgb.fit(X_train, y_train)"
   ]
  },
  {
   "cell_type": "code",
   "execution_count": 40,
   "metadata": {},
   "outputs": [],
   "source": [
    "# Use the trained models to predict probabilities for the train and test data and get AUC ROC score\n",
    "xgb_pred_train = xgb.predict(X_train)\n",
    "\n",
    "xgb_pred_test = xgb.predict(X_test)"
   ]
  },
  {
   "cell_type": "code",
   "execution_count": 41,
   "metadata": {},
   "outputs": [
    {
     "data": {
      "text/plain": [
       "0.63836922958496"
      ]
     },
     "execution_count": 41,
     "metadata": {},
     "output_type": "execute_result"
    }
   ],
   "source": [
    "xgb_proba = xgb.predict_proba(X_test)[:, 1]\n",
    "\n",
    "# I get the AUC ROC metrics\n",
    "xgb_auc = roc_auc_score(y_test, xgb_proba)\n",
    "xgb_auc"
   ]
  },
  {
   "cell_type": "code",
   "execution_count": 42,
   "metadata": {},
   "outputs": [
    {
     "name": "stdout",
     "output_type": "stream",
     "text": [
      "              precision    recall  f1-score   support\n",
      "\n",
      "           0       0.77      0.99      0.86     29567\n",
      "           1       0.88      0.14      0.23     10433\n",
      "\n",
      "    accuracy                           0.77     40000\n",
      "   macro avg       0.82      0.56      0.55     40000\n",
      "weighted avg       0.79      0.77      0.70     40000\n",
      "\n"
     ]
    }
   ],
   "source": [
    "print(classification_report(y_train, xgb_pred_train))"
   ]
  },
  {
   "cell_type": "code",
   "execution_count": 43,
   "metadata": {},
   "outputs": [
    {
     "name": "stdout",
     "output_type": "stream",
     "text": [
      "              precision    recall  f1-score   support\n",
      "\n",
      "           0       0.75      0.98      0.85      7392\n",
      "           1       0.50      0.07      0.12      2608\n",
      "\n",
      "    accuracy                           0.74     10000\n",
      "   macro avg       0.62      0.52      0.48     10000\n",
      "weighted avg       0.68      0.74      0.66     10000\n",
      "\n"
     ]
    }
   ],
   "source": [
    "print(classification_report(y_test, xgb_pred_test))"
   ]
  },
  {
   "attachments": {},
   "cell_type": "markdown",
   "metadata": {},
   "source": [
    "##### Metrics for the choosen model"
   ]
  },
  {
   "cell_type": "code",
   "execution_count": 44,
   "metadata": {},
   "outputs": [],
   "source": [
    "xgb_proba[xgb_proba >= 0.27] = 1\n",
    "xgb_proba[xgb_proba < 0.27] = 0"
   ]
  },
  {
   "cell_type": "code",
   "execution_count": 45,
   "metadata": {},
   "outputs": [
    {
     "name": "stdout",
     "output_type": "stream",
     "text": [
      "              precision    recall  f1-score   support\n",
      "\n",
      "           0       0.81      0.63      0.71      7392\n",
      "           1       0.35      0.57      0.43      2608\n",
      "\n",
      "    accuracy                           0.61     10000\n",
      "   macro avg       0.58      0.60      0.57     10000\n",
      "weighted avg       0.69      0.61      0.64     10000\n",
      "\n"
     ]
    }
   ],
   "source": [
    "print(classification_report(y_test, xgb_proba))"
   ]
  },
  {
   "cell_type": "code",
   "execution_count": 46,
   "metadata": {},
   "outputs": [
    {
     "data": {
      "image/png": "[encoded data removed]",
      "text/plain": [
       "<Figure size 640x480 with 1 Axes>"
      ]
     },
     "metadata": {},
     "output_type": "display_data"
    }
   ],
   "source": [
    "precision, recall, thresholds = precision_recall_curve(y_test, xgb_proba)\n",
    "fig, ax = plt.subplots()\n",
    "ax.plot(recall, precision, color = 'purple')\n",
    "ax.set_title('Precision - Recall Curve')\n",
    "ax.set_ylabel('Precision')\n",
    "ax.set_xlabel('Recall')\n",
    "plt.show()"
   ]
  },
  {
   "cell_type": "code",
   "execution_count": 47,
   "metadata": {},
   "outputs": [
    {
     "name": "stderr",
     "output_type": "stream",
     "text": [
      "c:\\Users\\titob\\Documents\\Cursos\\AnyoneAI\\Final_Project\\Credit_Score_MateoBongiorno\\credit_risk_api\\lib\\site-packages\\sklearn\\utils\\deprecation.py:87: FutureWarning: Function plot_confusion_matrix is deprecated; Function `plot_confusion_matrix` is deprecated in 1.0 and will be removed in 1.2. Use one of the class methods: ConfusionMatrixDisplay.from_predictions or ConfusionMatrixDisplay.from_estimator.\n",
      "  warnings.warn(msg, category=FutureWarning)\n"
     ]
    },
    {
     "data": {
      "text/plain": [
       "<sklearn.metrics._plot.confusion_matrix.ConfusionMatrixDisplay at 0x15cee086fe0>"
      ]
     },
     "execution_count": 47,
     "metadata": {},
     "output_type": "execute_result"
    },
    {
     "data": {
      "image/png": "[encoded data removed]",
      "text/plain": [
       "<Figure size 640x480 with 2 Axes>"
      ]
     },
     "metadata": {},
     "output_type": "display_data"
    }
   ],
   "source": [
    "plot_confusion_matrix(xgb, X_train, y_train)"
   ]
  },
  {
   "cell_type": "code",
   "execution_count": 48,
   "metadata": {},
   "outputs": [
    {
     "name": "stderr",
     "output_type": "stream",
     "text": [
      "c:\\Users\\titob\\Documents\\Cursos\\AnyoneAI\\Final_Project\\Credit_Score_MateoBongiorno\\credit_risk_api\\lib\\site-packages\\sklearn\\utils\\deprecation.py:87: FutureWarning: Function plot_confusion_matrix is deprecated; Function `plot_confusion_matrix` is deprecated in 1.0 and will be removed in 1.2. Use one of the class methods: ConfusionMatrixDisplay.from_predictions or ConfusionMatrixDisplay.from_estimator.\n",
      "  warnings.warn(msg, category=FutureWarning)\n"
     ]
    },
    {
     "data": {
      "text/plain": [
       "<sklearn.metrics._plot.confusion_matrix.ConfusionMatrixDisplay at 0x15cf18e0220>"
      ]
     },
     "execution_count": 48,
     "metadata": {},
     "output_type": "execute_result"
    },
    {
     "data": {
      "image/png": "[encoded data removed]",
      "text/plain": [
       "<Figure size 640x480 with 2 Axes>"
      ]
     },
     "metadata": {},
     "output_type": "display_data"
    }
   ],
   "source": [
    "plot_confusion_matrix(xgb, X_test, y_test)"
   ]
  },
  {
   "attachments": {},
   "cell_type": "markdown",
   "metadata": {},
   "source": [
    "##### False Positive Rate and False Negative Rate against the Threshold"
   ]
  },
  {
   "cell_type": "code",
   "execution_count": 49,
   "metadata": {},
   "outputs": [
    {
     "data": {
      "image/png": "[encoded data removed]",
      "text/plain": [
       "<Figure size 1000x600 with 1 Axes>"
      ]
     },
     "metadata": {},
     "output_type": "display_data"
    }
   ],
   "source": [
    "xgb_proba = xgb.predict_proba(X_test)[:, 1]\n",
    "\n",
    "fpr, tpr, thresholds = roc_curve(y_test, xgb_proba)\n",
    "\n",
    "df_plot = pd.DataFrame({'Threshold' : thresholds, 'False Positive Rate' : fpr, 'False Negative Rate' : 1.-tpr})\n",
    "ax = df_plot.plot(x = 'Threshold', y = ['False Positive Rate', 'False Negative Rate'], figsize = (10, 6))\n",
    "ax.plot([0.27, 0.27], [0, 0.27]) \n",
    "ax.set_xbound(0, 1); ax.set_ybound(0, 1) "
   ]
  },
  {
   "attachments": {},
   "cell_type": "markdown",
   "metadata": {},
   "source": [
    "#### XGBoost Classifier + RandomizedSearchCV"
   ]
  },
  {
   "cell_type": "code",
   "execution_count": 50,
   "metadata": {},
   "outputs": [],
   "source": [
    "xgb_params = {\n",
    "        'max_depth' : (3, 10),\n",
    "        'learning_rate' : (0.1, 0.01),\n",
    "        'n_estimators' : (100, 150),\n",
    "        'gamma' : (0, 0.001),\n",
    "        'eta' : (0.01, 0.1),\n",
    "        'subsample' : (0.6, 0.8),\n",
    "        'reg_alpha' : (0.005, 0.001,0)\n",
    "}"
   ]
  },
  {
   "cell_type": "code",
   "execution_count": 51,
   "metadata": {},
   "outputs": [
    {
     "name": "stdout",
     "output_type": "stream",
     "text": [
      "Fitting 5 folds for each of 5 candidates, totalling 25 fits\n"
     ]
    },
    {
     "data": {
      "text/plain": [
       "RandomizedSearchCV(cv=5,\n",
       "                   estimator=XGBClassifier(base_score=None, booster=None,\n",
       "                                           callbacks=None,\n",
       "                                           colsample_bylevel=None,\n",
       "                                           colsample_bynode=None,\n",
       "                                           colsample_bytree=None,\n",
       "                                           early_stopping_rounds=None,\n",
       "                                           enable_categorical=False,\n",
       "                                           eval_metric=None, feature_types=None,\n",
       "                                           gamma=None, gpu_id=None,\n",
       "                                           grow_policy=None,\n",
       "                                           importance_type=None,\n",
       "                                           interaction_constraints=None,\n",
       "                                           learning_rate...\n",
       "                                           min_child_weight=None, missing=nan,\n",
       "                                           monotone_constraints=None,\n",
       "                                           n_estimators=100, n_jobs=None,\n",
       "                                           num_parallel_tree=None,\n",
       "                                           predictor=None, random_state=42, ...),\n",
       "                   n_iter=5, n_jobs=-1,\n",
       "                   param_distributions={'eta': (0.01, 0.1), 'gamma': (0, 0.001),\n",
       "                                        'learning_rate': (0.1, 0.01),\n",
       "                                        'max_depth': (3, 10),\n",
       "                                        'n_estimators': (100, 150),\n",
       "                                        'reg_alpha': (0.005, 0.001, 0),\n",
       "                                        'subsample': (0.6, 0.8)},\n",
       "                   scoring='roc_auc', verbose=1)"
      ]
     },
     "execution_count": 51,
     "metadata": {},
     "output_type": "execute_result"
    }
   ],
   "source": [
    "xgb_rd = RandomizedSearchCV(\n",
    "    XGBClassifier(random_state = 42), scoring = 'roc_auc', param_distributions = xgb_params,\n",
    "     cv = 5, n_jobs = -1, n_iter = 5,verbose = 1\n",
    "    )\n",
    "\n",
    "xgb_rd.fit(X_train, y_train)"
   ]
  },
  {
   "cell_type": "code",
   "execution_count": 52,
   "metadata": {},
   "outputs": [],
   "source": [
    "xgb_pred_train = xgb_rd.predict(X_train)\n",
    "\n",
    "xgb_pred_test = xgb_rd.predict(X_test)"
   ]
  },
  {
   "cell_type": "code",
   "execution_count": 53,
   "metadata": {},
   "outputs": [
    {
     "data": {
      "text/plain": [
       "0.6338894342333281"
      ]
     },
     "execution_count": 53,
     "metadata": {},
     "output_type": "execute_result"
    }
   ],
   "source": [
    "xgb_rd_proba = xgb_rd.predict_proba(X_test)[:, 1]\n",
    "\n",
    "xgb_rd_auc = roc_auc_score(y_test, xgb_rd_proba)\n",
    "xgb_rd_auc"
   ]
  },
  {
   "cell_type": "code",
   "execution_count": 54,
   "metadata": {},
   "outputs": [
    {
     "name": "stdout",
     "output_type": "stream",
     "text": [
      "              precision    recall  f1-score   support\n",
      "\n",
      "           0       0.78      1.00      0.88     29567\n",
      "           1       0.97      0.22      0.35     10433\n",
      "\n",
      "    accuracy                           0.79     40000\n",
      "   macro avg       0.87      0.61      0.61     40000\n",
      "weighted avg       0.83      0.79      0.74     40000\n",
      "\n"
     ]
    }
   ],
   "source": [
    "print(classification_report(y_train, xgb_pred_train))"
   ]
  },
  {
   "cell_type": "code",
   "execution_count": 55,
   "metadata": {},
   "outputs": [
    {
     "name": "stdout",
     "output_type": "stream",
     "text": [
      "              precision    recall  f1-score   support\n",
      "\n",
      "           0       0.75      0.98      0.85      7392\n",
      "           1       0.47      0.06      0.11      2608\n",
      "\n",
      "    accuracy                           0.74     10000\n",
      "   macro avg       0.61      0.52      0.48     10000\n",
      "weighted avg       0.67      0.74      0.65     10000\n",
      "\n"
     ]
    }
   ],
   "source": [
    "print(classification_report(y_test, xgb_pred_test))"
   ]
  },
  {
   "attachments": {},
   "cell_type": "markdown",
   "metadata": {},
   "source": [
    "### Multilayer Perceptron (MLP)"
   ]
  },
  {
   "cell_type": "code",
   "execution_count": 56,
   "metadata": {},
   "outputs": [
    {
     "name": "stdout",
     "output_type": "stream",
     "text": [
      "Model: \"sequential\"\n",
      "_________________________________________________________________\n",
      " Layer (type)                Output Shape              Param #   \n",
      "=================================================================\n",
      " dense (Dense)               (None, 480)               833760    \n",
      "                                                                 \n",
      " dense_1 (Dense)             (None, 125)               60125     \n",
      "                                                                 \n",
      " dense_2 (Dense)             (None, 250)               31500     \n",
      "                                                                 \n",
      " dense_3 (Dense)             (None, 80)                20080     \n",
      "                                                                 \n",
      " dense_4 (Dense)             (None, 2)                 162       \n",
      "                                                                 \n",
      "=================================================================\n",
      "Total params: 945,627\n",
      "Trainable params: 945,627\n",
      "Non-trainable params: 0\n",
      "_________________________________________________________________\n"
     ]
    }
   ],
   "source": [
    "mlp = keras.Sequential()\n",
    "mlp.add(layers.Dense(480, input_dim = 1736, activation = 'relu'))\n",
    "mlp.add(layers.Dense(125, activation = 'relu'))\n",
    "mlp.add(layers.Dense(250, activation = 'relu'))\n",
    "mlp.add(layers.Dense(80, activation = 'relu'))\n",
    "mlp.add(layers.Dense(2, activation = 'softmax'))\n",
    "mlp.summary()"
   ]
  },
  {
   "cell_type": "code",
   "execution_count": 57,
   "metadata": {},
   "outputs": [],
   "source": [
    "mlp.compile(\n",
    "        loss = 'sparse_categorical_crossentropy', \n",
    "        optimizer = 'adam',\n",
    "        metrics = ['accuracy'],\n",
    ")"
   ]
  },
  {
   "cell_type": "code",
   "execution_count": 58,
   "metadata": {},
   "outputs": [],
   "source": [
    "early_stopping = keras.callbacks.EarlyStopping(\n",
    "        patience = 5,\n",
    "        min_delta = 0.001,\n",
    "        restore_best_weights = True,\n",
    ")"
   ]
  },
  {
   "cell_type": "code",
   "execution_count": 59,
   "metadata": {},
   "outputs": [
    {
     "name": "stderr",
     "output_type": "stream",
     "text": [
      "c:\\Users\\titob\\Documents\\Cursos\\AnyoneAI\\Final_Project\\Credit_Score_MateoBongiorno\\credit_risk_api\\lib\\site-packages\\keras\\engine\\data_adapter.py:1696: FutureWarning: The behavior of `series[i:j]` with an integer-dtype index is deprecated. In a future version, this will be treated as *label-based* indexing, consistent with e.g. `series[i]` lookups. To retain the old behavior, use `series.iloc[i:j]`. To get the future behavior, use `series.loc[i:j]`.\n",
      "  return t[start:end]\n"
     ]
    },
    {
     "name": "stdout",
     "output_type": "stream",
     "text": [
      "Epoch 1/50\n",
      "1000/1000 [==============================] - 16s 14ms/step - loss: 0.5628 - accuracy: 0.7379 - val_loss: 0.5501 - val_accuracy: 0.7435\n",
      "Epoch 2/50\n",
      "1000/1000 [==============================] - 14s 14ms/step - loss: 0.5429 - accuracy: 0.7381 - val_loss: 0.5469 - val_accuracy: 0.7431\n",
      "Epoch 3/50\n",
      "1000/1000 [==============================] - 13s 13ms/step - loss: 0.5246 - accuracy: 0.7446 - val_loss: 0.5510 - val_accuracy: 0.7368\n",
      "Epoch 4/50\n",
      "1000/1000 [==============================] - 14s 14ms/step - loss: 0.4939 - accuracy: 0.7608 - val_loss: 0.5731 - val_accuracy: 0.7132\n",
      "Epoch 5/50\n",
      "1000/1000 [==============================] - 13s 13ms/step - loss: 0.4512 - accuracy: 0.7836 - val_loss: 0.6325 - val_accuracy: 0.7147\n",
      "Epoch 6/50\n",
      "1000/1000 [==============================] - 14s 14ms/step - loss: 0.3971 - accuracy: 0.8122 - val_loss: 0.6869 - val_accuracy: 0.7072\n",
      "Epoch 7/50\n",
      "1000/1000 [==============================] - 14s 14ms/step - loss: 0.3438 - accuracy: 0.8411 - val_loss: 0.7955 - val_accuracy: 0.6985\n"
     ]
    },
    {
     "data": {
      "text/plain": [
       "<keras.callbacks.History at 0x15cf1d2ff40>"
      ]
     },
     "execution_count": 59,
     "metadata": {},
     "output_type": "execute_result"
    }
   ],
   "source": [
    "mlp.fit(\n",
    "  X_train, \n",
    "  y_train, \n",
    "  epochs = 50, \n",
    "  batch_size = 32, \n",
    "  validation_split = 0.2,\n",
    "  callbacks = [early_stopping]\n",
    ")"
   ]
  },
  {
   "cell_type": "code",
   "execution_count": 60,
   "metadata": {},
   "outputs": [
    {
     "name": "stdout",
     "output_type": "stream",
     "text": [
      "1250/1250 [==============================] - 5s 4ms/step\n"
     ]
    }
   ],
   "source": [
    "mlp_pred_train = mlp.predict(X_train)"
   ]
  },
  {
   "cell_type": "code",
   "execution_count": 61,
   "metadata": {},
   "outputs": [],
   "source": [
    "y_pred_bool = np.argmax(mlp_pred_train, axis = 1)"
   ]
  },
  {
   "cell_type": "code",
   "execution_count": 62,
   "metadata": {},
   "outputs": [
    {
     "name": "stdout",
     "output_type": "stream",
     "text": [
      "              precision    recall  f1-score   support\n",
      "\n",
      "           0       0.74      1.00      0.85     29567\n",
      "           1       0.67      0.00      0.00     10433\n",
      "\n",
      "    accuracy                           0.74     40000\n",
      "   macro avg       0.70      0.50      0.43     40000\n",
      "weighted avg       0.72      0.74      0.63     40000\n",
      "\n"
     ]
    }
   ],
   "source": [
    "print(classification_report(y_train, y_pred_bool))"
   ]
  },
  {
   "cell_type": "code",
   "execution_count": 63,
   "metadata": {},
   "outputs": [
    {
     "name": "stdout",
     "output_type": "stream",
     "text": [
      "313/313 [==============================] - 1s 4ms/step\n"
     ]
    }
   ],
   "source": [
    "mlp_pred_test = mlp.predict(X_test)"
   ]
  },
  {
   "cell_type": "code",
   "execution_count": 64,
   "metadata": {},
   "outputs": [],
   "source": [
    "y_pred_bool_test = np.argmax(mlp_pred_test, axis = 1)"
   ]
  },
  {
   "cell_type": "code",
   "execution_count": 65,
   "metadata": {},
   "outputs": [
    {
     "name": "stdout",
     "output_type": "stream",
     "text": [
      "              precision    recall  f1-score   support\n",
      "\n",
      "           0       0.74      1.00      0.85      7392\n",
      "           1       0.50      0.00      0.00      2608\n",
      "\n",
      "    accuracy                           0.74     10000\n",
      "   macro avg       0.62      0.50      0.43     10000\n",
      "weighted avg       0.68      0.74      0.63     10000\n",
      "\n"
     ]
    }
   ],
   "source": [
    "print(classification_report(y_test, y_pred_bool_test))"
   ]
  }
 ],
 "metadata": {
  "kernelspec": {
   "display_name": "credit_risk_api",
   "language": "python",
   "name": "python3"
  },
  "language_info": {
   "codemirror_mode": {
    "name": "ipython",
    "version": 3
   },
   "file_extension": ".py",
   "mimetype": "text/x-python",
   "name": "python",
   "nbconvert_exporter": "python",
   "pygments_lexer": "ipython3",
   "version": "3.10.9"
  },
  "orig_nbformat": 4,
  "vscode": {
   "interpreter": {
    "hash": "985f81c1e2c397617df76501e9de5a6bd92b97db5933ebf5500a66afb59ec751"
   }
  }
 },
 "nbformat": 4,
 "nbformat_minor": 2
}
